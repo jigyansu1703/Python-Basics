{
  "nbformat": 4,
  "nbformat_minor": 0,
  "metadata": {
    "colab": {
      "provenance": []
    },
    "kernelspec": {
      "name": "python3",
      "display_name": "Python 3"
    },
    "language_info": {
      "name": "python"
    }
  },
  "cells": [
    {
      "cell_type": "markdown",
      "source": [
        "#Python Basics\n"
      ],
      "metadata": {
        "id": "Q3kAvUlqbxNw"
      }
    },
    {
      "cell_type": "markdown",
      "source": [],
      "metadata": {
        "id": "pQypA9OLcb-j"
      }
    },
    {
      "cell_type": "markdown",
      "source": [
        "1. What is python, and why is it popular?\n",
        "   - Python is a programming language used to write a code. it is popular because it is easy to learn and have large number of library (up to 13700) compared to other coding languages and is used by large number of community\n",
        "2. What is interpreter in Python?\n",
        "   - An interpreter is a computer program that takes the python code and converts it into machine code.\n",
        "3. What are pre-defined keywords in Pyhton?\n",
        "   - keywords are pre-defined words that have special meaning in pyhton and have special purpose in pyhton problem. The meaning of keywords never changed. All keywords are used to write a logic\n",
        "   E.g. if,for,elif,return,false,class,break\n",
        "   -To show all the keywords we can write a code, Help('keywords')\n",
        "4. Can keywords be used as a variable names?\n",
        "   - No, we cannot use keywords as a varible beacuse keyword has there special meaning in python and if used it as variable it will show error.\n",
        "   - A variable start with a latter(alphabet) or Underscore charecter.\n",
        "5. What is mutability in pyhton?\n",
        "   - Objective or container whose state or value can be change after they are created known as mutable object or container. E.g. list\n",
        "6. Why are lists mutable, but tuples are immutable?\n",
        "   - Lists are mutable, but tuples are immutable Because we can change or update the list after created it but we cannot change or update the Tuple after created\n",
        "7. What is difference between \"==\" and \"is\" operators in Python?\n",
        "   - \"==\" is used for equal to. E.g. if we have to write a is equal to b so we write this in code as a == b\n",
        "   \"is\" is used to known that memory location of two variable are same or not.\n",
        "   E.g. if\n",
        "           a=1\n",
        "           b=2\n",
        "           a is b\n",
        "   here the result is false because they have diffrent memory location.\n",
        "   but if we write like\n",
        "           a=1\n",
        "           b=a\n",
        "           a is b\n",
        "   then the result is false because both have same memory location\n",
        "8. What is logic operators in python?\n",
        "   - Logic operator in python are special symbols that we use to compare multiple values logically.\n",
        "   There are three types of Python logic operators:\n",
        "   1. Logic AND operator : Returns True, if both statements are true.\n",
        "   2. Logic OR operator : Returns True, if one of the statement is true.\n",
        "   3. Logic NOT operator: Reverse the result.\n",
        "9. What is type casting in Pyhton?\n",
        "   - Type casting means changing the type of value from one data type to another\n",
        "            a = 3.4\n",
        "            print(int(a))\n",
        "            output = 3\n",
        "    - Type of Type Casting\n",
        "      1. Implicit type casting\n",
        "      2. Explicit type casting\n",
        "10. What is the difference between implicit and explicit type casting?\n",
        "    - When Python automatically converts data types itself, it's called Implicit type casting.\n",
        "     Example:\n",
        "                    a = 2\n",
        "                    b = 3.4\n",
        "                    sum = a + b  # Python automatically converts integer ‘a’ to float.\n",
        "                    print(sum)   # Output: 5.4\n",
        "\n",
        "     When type casting is done manually by the programmer using functions like int(), float(), or str(), it's called Explicit type casting.\n",
        "\n",
        "     Example:\n",
        "                    a = 3.4\n",
        "                    print(int(a))  \n",
        "                    Output: 3\n",
        "11. What is the purpose of conditional statements in Python?\n",
        "    - Conditional statements in Python are used for making the right decision when different conditions are present.\n",
        "     E.g. We will play cricket when the weather is sunny.\n",
        "     There are four types of conditional statements:\n",
        "     I.   if\n",
        "     II.  if-else\n",
        "     III. if-elif-else\n",
        "     IV.  nested-if-else\n",
        "     Note: Indentation is necessary.\n",
        "\n",
        "12. How does the elif statement work?\n",
        "    - We use 'elif' when we have more than two conditions to check.\n",
        "      You can have many 'elif' blocks in one program. Only the first true condition will run.\n",
        "\n",
        "     Syntax:\n",
        "                  if condition1:\n",
        "                   #do something\n",
        "                  elif condition2:\n",
        "                   #do something\n",
        "                  elif condition3:\n",
        "                   #do something\n",
        "                  else:\n",
        "                   #do this if no condition is true\n",
        "\n",
        "13. What is the difference between for and while loops?\n",
        "    - In Python, we use a 'for' loop when we know how many times to repeat something.\n",
        "     Example:\n",
        "               for i in range(2):  # Runs 2 times\n",
        "               print(\"Hello World\")\n",
        "               Output: Hello World Hello World\n",
        "\n",
        "     On the other hand, a 'while' loop is used when we don’t know exactly how many times the code should repeat.\n",
        "     It keeps running as long as the condition is true.\n",
        "\n",
        "     Example:\n",
        "                     i = 0\n",
        "                     while i < 2:\n",
        "                     print(\"Hello\")  \n",
        "                     i += 1\n",
        "                     # Hello Hello\n",
        "                     \n",
        "\n",
        "14. Describe a scenario where a while loop is more suitable than a for loop.\n",
        "    - A while loop is more suitable when we don't know in advance how many times a block of code needs to repeat.\n",
        "     This is useful in situations where the loop depends on a condition that can only be determined during execution, rather than a fixed number of times.\n",
        "\n",
        "     For example, consider a login system that asks the user to enter a password.\n",
        "     We want to keep asking until the user types the correct password. Since we don't know how many attempts they might need,\n",
        "     we can't use a for loop (which runs a fixed number of times). A while loop is ideal here.\n",
        "\n",
        "     Example:\n",
        "                correct_password = \"admin123\"\n",
        "                user_input = \\\"\\\"\n",
        "                while user_input != correct_password:\"\n",
        "                user_input = input(\\\"Enter password: \\\")\"\n",
        "                \"print(\\\"Access granted!\\\")\"\n",
        "\n",
        "     In this scenario, the loop continues to ask for input until the user types the correct password.\n",
        "     This makes the while loop more flexible and suitable than a for loop, which is better when the number of repetitions is known in advance."
      ],
      "metadata": {
        "id": "NHnM93opcawz"
      }
    },
    {
      "cell_type": "markdown",
      "source": [
        "#Practice Question"
      ],
      "metadata": {
        "id": "n5iHgxSE0Mat"
      }
    },
    {
      "cell_type": "code",
      "source": [
        "#1. Write a Python program to print 'Hello, World!\n",
        "print(\"Hello, World!\")"
      ],
      "metadata": {
        "colab": {
          "base_uri": "https://localhost:8080/"
        },
        "id": "xS4RW6zncY05",
        "outputId": "c2a9f900-db46-486c-81f6-3ad564e5578c"
      },
      "execution_count": 1,
      "outputs": [
        {
          "output_type": "stream",
          "name": "stdout",
          "text": [
            "Hello, World!\n"
          ]
        }
      ]
    },
    {
      "cell_type": "code",
      "source": [
        "#2. Write a Python program that displays your name and age\n",
        "Nmae = input(\"Please Enter Your Name: \")\n",
        "Age = int(input(\"Please Enter Your Age: \"))\n",
        "print(\"Your Name is: \",Nmae)\n",
        "print(\"Your Age is: \",Age)"
      ],
      "metadata": {
        "colab": {
          "base_uri": "https://localhost:8080/"
        },
        "id": "9RTSo8Qoy2R3",
        "outputId": "fb1be135-48ca-4db7-bdd4-3a9992b1d7ed"
      },
      "execution_count": 2,
      "outputs": [
        {
          "output_type": "stream",
          "name": "stdout",
          "text": [
            "Please Enter Your Name: Nivedita\n",
            "Please Enter Your Age: 24\n",
            "Your Name is:  Nivedita\n",
            "Your Age is:  24\n"
          ]
        }
      ]
    },
    {
      "cell_type": "code",
      "source": [
        "#3. Write code to print all the pre-defined keywords in Python using the keywords library\n",
        "help('keywords')"
      ],
      "metadata": {
        "colab": {
          "base_uri": "https://localhost:8080/"
        },
        "id": "o00iZFtIzW23",
        "outputId": "ad8f843f-5a11-43c3-8031-cf9fd513c19f"
      },
      "execution_count": 5,
      "outputs": [
        {
          "output_type": "stream",
          "name": "stdout",
          "text": [
            "\n",
            "Here is a list of the Python keywords.  Enter any keyword to get more help.\n",
            "\n",
            "False               class               from                or\n",
            "None                continue            global              pass\n",
            "True                def                 if                  raise\n",
            "and                 del                 import              return\n",
            "as                  elif                in                  try\n",
            "assert              else                is                  while\n",
            "async               except              lambda              with\n",
            "await               finally             nonlocal            yield\n",
            "break               for                 not                 \n",
            "\n"
          ]
        }
      ]
    },
    {
      "cell_type": "code",
      "source": [
        "#4. Write a program that checks if a given word is a Python keyword\n",
        "import keyword\n",
        "word = input(\"Enter the Word:\")\n",
        "if keyword.iskeyword(word):\n",
        "  print(f\"The word '{word}' is a keyword\")\n",
        "else:\n",
        "          print(f\"The word '{word}' is not a keyword\")"
      ],
      "metadata": {
        "colab": {
          "base_uri": "https://localhost:8080/"
        },
        "id": "Vjx8tUrXzpcK",
        "outputId": "a6230d3c-fa56-4e7c-8bc6-f86ad7350aa9"
      },
      "execution_count": 18,
      "outputs": [
        {
          "output_type": "stream",
          "name": "stdout",
          "text": [
            "Enter the Word:or\n",
            "The word 'or' is a keyword\n"
          ]
        }
      ]
    },
    {
      "cell_type": "code",
      "source": [
        " #5. Write a function to demonstrate the behaviour of mutable and immutable arguments\n",
        "# Immutable\n",
        "num = 5\n",
        "# Mutable\n",
        "my_list = [1, 2, 3]\n",
        "# Change num\n",
        "num = num + 1\n",
        "# Change list\n",
        "my_list.append(4)  # This changes the original list\n",
        "print(\"Number:\", num)\n",
        "print(\"List:\", my_list)\n"
      ],
      "metadata": {
        "colab": {
          "base_uri": "https://localhost:8080/"
        },
        "id": "A3q7s5ip3AzV",
        "outputId": "4b85eac5-f43a-4d03-cb86-ebf195ba1ed7"
      },
      "execution_count": 21,
      "outputs": [
        {
          "output_type": "stream",
          "name": "stdout",
          "text": [
            "Number: 6\n",
            "List: [1, 2, 3, 4]\n"
          ]
        }
      ]
    },
    {
      "cell_type": "code",
      "source": [
        "#6. Write a program that performs basic arithmetic operations on two user-input numbers.?\n",
        "a=20\n",
        "b=3\n",
        "print(a+b)\n",
        "print(a-b)\n",
        "print(a*b)\n",
        "print(a/b)\n",
        "print(a%b)\n",
        "print(a//b)\n",
        "print(a**b)"
      ],
      "metadata": {
        "colab": {
          "base_uri": "https://localhost:8080/"
        },
        "id": "AAEWKevS70_V",
        "outputId": "04ded4ec-94c0-4bca-84d5-18dca566c20b"
      },
      "execution_count": 22,
      "outputs": [
        {
          "output_type": "stream",
          "name": "stdout",
          "text": [
            "23\n",
            "17\n",
            "60\n",
            "6.666666666666667\n",
            "2\n",
            "6\n",
            "8000\n"
          ]
        }
      ]
    },
    {
      "cell_type": "code",
      "source": [
        " #7. Write a program to demonstrate the use of logical operators\n",
        " #use of And operator\n",
        "year=int(input(\"Enter the year:\"))\n",
        "if(year%4==0 and year%100!=0):\n",
        "  print(\"The year is leap year\")\n",
        "else:\n",
        "    print(\"The year is not leap year\")\n",
        "#use of Or operator\n",
        "x=3\n",
        "if x>10 or x<0:\n",
        "  print(\"out of range\")\n",
        "else:\n",
        "  print(\"in range\")"
      ],
      "metadata": {
        "colab": {
          "base_uri": "https://localhost:8080/"
        },
        "id": "EPMNyH368QxR",
        "outputId": "a75d90f8-623e-462b-cfe8-95938c5b5819"
      },
      "execution_count": 26,
      "outputs": [
        {
          "output_type": "stream",
          "name": "stdout",
          "text": [
            "Enter the year:10\n",
            "The year is not leap year\n",
            "in range\n"
          ]
        }
      ]
    },
    {
      "cell_type": "code",
      "source": [
        "# 8. Create a list and tuple in Python, and demonstrate how attempting to change an element works differently for each\n",
        "my_list = [1, 2, 3]\n",
        "my_tuple = (1, 2, 3)\n",
        "\n",
        "my_list[0] = 10        # Allowed\n",
        "print(\"Modified list:\", my_list)\n",
        "\n",
        "try:\n",
        "    my_tuple[0] = 10   # Not allowed, raises error\n",
        "except TypeError as e:\n",
        "    print(\"Error when trying to modify tuple:\", e)\n"
      ],
      "metadata": {
        "colab": {
          "base_uri": "https://localhost:8080/"
        },
        "id": "F3qQpHcD8Y0Y",
        "outputId": "d243cee8-bef5-4af4-f637-4505fe631c3b"
      },
      "execution_count": 27,
      "outputs": [
        {
          "output_type": "stream",
          "name": "stdout",
          "text": [
            "Modified list: [10, 2, 3]\n",
            "Error when trying to modify tuple: 'tuple' object does not support item assignment\n"
          ]
        }
      ]
    },
    {
      "cell_type": "code",
      "source": [
        "# 9. Write a Python program to convert user input from string to integer, float, and Boolean types\n",
        "user_input = input(\"Enter a value: \")\n",
        "as_int = int(user_input)\n",
        "as_float = float(user_input)\n",
        "as_bool = bool(user_input)  # Note: any non-empty string converts to True\n",
        "print(\"As integer:\", as_int)\n",
        "print(\"As float:\", as_float)\n",
        "print(\"As boolean:\", as_bool)"
      ],
      "metadata": {
        "colab": {
          "base_uri": "https://localhost:8080/"
        },
        "id": "QpgirGVt-Xuj",
        "outputId": "d7598b6f-50c0-4c6d-b9c5-68f97791446b"
      },
      "execution_count": 28,
      "outputs": [
        {
          "output_type": "stream",
          "name": "stdout",
          "text": [
            "Enter a value: 10\n",
            "As integer: 10\n",
            "As float: 10.0\n",
            "As boolean: True\n"
          ]
        }
      ]
    },
    {
      "cell_type": "code",
      "source": [
        "# 10. Write code to demonstrate type casting with list elements\n",
        "list_ = [1, 2.3, \"ashu\"]\n",
        "list_[2] = \"Nivedita\"\n",
        "print(list_)"
      ],
      "metadata": {
        "colab": {
          "base_uri": "https://localhost:8080/"
        },
        "id": "ILUWtVpx-bxZ",
        "outputId": "ca59368d-0d09-4156-b207-5b7f88e20fde"
      },
      "execution_count": 29,
      "outputs": [
        {
          "output_type": "stream",
          "name": "stdout",
          "text": [
            "[1, 2.3, 'Nivedita']\n"
          ]
        }
      ]
    },
    {
      "cell_type": "code",
      "source": [
        "# 11. Write a program that checks if a number is positive, negative, or zero\n",
        "Number = int(input(\"Enter the number: \"))\n",
        "if Number == 0:\n",
        "    print(\"Number is zero\")\n",
        "elif Number > 0:\n",
        "    print(\"Number is positive\")\n",
        "else:\n",
        "    print(\"Number is negative\")"
      ],
      "metadata": {
        "colab": {
          "base_uri": "https://localhost:8080/"
        },
        "id": "1BKUtjVt-h3E",
        "outputId": "4efa0d30-80c7-49f8-a3e1-0cc134efd4bd"
      },
      "execution_count": 30,
      "outputs": [
        {
          "output_type": "stream",
          "name": "stdout",
          "text": [
            "Enter the number: 10\n",
            "Number is positive\n"
          ]
        }
      ]
    },
    {
      "cell_type": "code",
      "source": [
        "# 12. Write a for loop to print numbers from 1 to 10\n",
        "for i in range(1, 11):\n",
        "    print(i)\n"
      ],
      "metadata": {
        "colab": {
          "base_uri": "https://localhost:8080/"
        },
        "id": "62ONj9jU-lmB",
        "outputId": "9b78a5ce-caf4-4939-da6e-181c630e35ed"
      },
      "execution_count": 31,
      "outputs": [
        {
          "output_type": "stream",
          "name": "stdout",
          "text": [
            "1\n",
            "2\n",
            "3\n",
            "4\n",
            "5\n",
            "6\n",
            "7\n",
            "8\n",
            "9\n",
            "10\n"
          ]
        }
      ]
    },
    {
      "cell_type": "code",
      "source": [
        "# 13. Write a Python program to find the sum of all even numbers between 1 and 50\n",
        "sum_even = 0\n",
        "for num in range(2, 51, 2):\n",
        "    sum_even += num\n",
        "print(\"Sum of all even numbers between 1 and 50 is\", sum_even)"
      ],
      "metadata": {
        "colab": {
          "base_uri": "https://localhost:8080/"
        },
        "id": "relYPtKuBGS_",
        "outputId": "db3de870-9f09-4211-ba8c-fee3dfa6d6c4"
      },
      "execution_count": 32,
      "outputs": [
        {
          "output_type": "stream",
          "name": "stdout",
          "text": [
            "Sum of all even numbers between 1 and 50 is 650\n"
          ]
        }
      ]
    },
    {
      "cell_type": "code",
      "source": [
        "# 14. Write a program to reverse a string using a while loop\n",
        "string = input(\"Enter a string: \")\n",
        "reversed_str = \"\"\n",
        "index = len(string) - 1\n",
        "while index >= 0:\n",
        "    reversed_str += string[index]\n",
        "    index -= 1\n",
        "print(\"Reversed string is:\", reversed_str)"
      ],
      "metadata": {
        "colab": {
          "base_uri": "https://localhost:8080/"
        },
        "id": "vDTA6ZF7BJwb",
        "outputId": "ab4b18ed-ff4d-4162-8475-e18dad792aee"
      },
      "execution_count": 33,
      "outputs": [
        {
          "output_type": "stream",
          "name": "stdout",
          "text": [
            "Enter a string: 5\n",
            "Reversed string is: 5\n"
          ]
        }
      ]
    },
    {
      "cell_type": "code",
      "source": [
        "# 15. Write a Python program to calculate the factorial of a number provided by the user using a while loop\n",
        "num = int(input(\"Enter a number to find factorial: \"))\n",
        "factorial = 1\n",
        "temp = num\n",
        "while temp > 1:\n",
        "    factorial *= temp\n",
        "    temp -= 1\n",
        "print(f\"Factorial of {num} is {factorial}\")"
      ],
      "metadata": {
        "colab": {
          "base_uri": "https://localhost:8080/"
        },
        "id": "F8WRT9G3BNpi",
        "outputId": "ac33df7e-7aac-4cb2-8dc8-bdb8dfab51b7"
      },
      "execution_count": 34,
      "outputs": [
        {
          "output_type": "stream",
          "name": "stdout",
          "text": [
            "Enter a number to find factorial: 76\n",
            "Factorial of 76 is 1885494701666050254987932260861146558230394535379329335672487982961844043495537923117729972224000000000000000000\n"
          ]
        }
      ]
    },
    {
      "cell_type": "code",
      "source": [],
      "metadata": {
        "id": "UzHpJHbUBXkl"
      },
      "execution_count": null,
      "outputs": []
    }
  ]
}